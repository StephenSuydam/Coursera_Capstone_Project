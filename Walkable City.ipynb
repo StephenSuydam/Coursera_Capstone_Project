{
    "cells": [
        {
            "cell_type": "markdown",
            "metadata": {
                "collapsed": true
            },
            "source": "# Walkable City Project"
        },
        {
            "cell_type": "markdown",
            "metadata": {},
            "source": "Problem:\nI have received a job offer in Seattle and intend to move there, but I am not sure of the neighborhood that is best for me.  I currently live in the downtown area of Chicago and I would like to compare my neighborhood to a similar neighborhood in Seattle.  This would include walkability to grocery stores, proximity to restaurants and bars and access to public transportation.  Criteria will include number of grocery stores in neighborhood, the number of restaurants and bars in a neighborhood and the distance from the center of neighborhood to the closest public transit station, trains not buses.  \n\nData Needed:\nThe data needed will be the neighborhood names and zip codes for each of the cities (Chicago and Seattle) as well as the latitude and longitude data for the center of each of those neighborhoods.  Using that information, data will be downloaded from FourSquare to access grocery stores, restaurants (including coffee shops), bars and public transportation stops.  A DataFrame of all of the neighborhoods will be constructed with each of those neighborhoods and a similarity score will be determined with Cosine Similarity to compare it to my Chicago neighborhood.  After finding the neighborhood most similar, I will create clusters of venues based on lat/long data to find the location of the best place to live near a venue dense area and plot them on a map.\n"
        }
    ],
    "metadata": {
        "kernelspec": {
            "display_name": "Python 3.7",
            "language": "python",
            "name": "python3"
        },
        "language_info": {
            "codemirror_mode": {
                "name": "ipython",
                "version": 3
            },
            "file_extension": ".py",
            "mimetype": "text/x-python",
            "name": "python",
            "nbconvert_exporter": "python",
            "pygments_lexer": "ipython3",
            "version": "3.7.9"
        }
    },
    "nbformat": 4,
    "nbformat_minor": 1
}